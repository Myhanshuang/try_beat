{
 "cells": [
  {
   "cell_type": "code",
   "execution_count": null,
   "id": "initial_id",
   "metadata": {
    "collapsed": true
   },
   "outputs": [],
   "source": [
    ""
   ]
  },
  {
   "metadata": {
    "ExecuteTime": {
     "end_time": "2025-05-03T06:58:35.893876Z",
     "start_time": "2025-05-03T06:58:23.762255Z"
    }
   },
   "cell_type": "code",
   "source": [
    "# %pip install einops==0.8.0 numpy==1.26.4 rotary_embedding_torch==0.6.4 soxr==0.3.7 tqdm==4.66.4\n",
    "# %pip3 install torch torchaudio --index-url https://download.pytorch.org/whl/cu128\n",
    "# %pip install soundfile\n",
    "# %pip install matplotlib\n",
    "# %pip install pandas pedalboard\n",
    "# %pip install pytorch_lightning\n",
    "# %pip install mir_eval\n",
    "# %pip install librosa"
   ],
   "id": "fa2ccb00f0937932",
   "outputs": [
    {
     "name": "stdout",
     "output_type": "stream",
     "text": [
      "Collecting librosa\r\n",
      "  Downloading librosa-0.11.0-py3-none-any.whl.metadata (8.7 kB)\r\n",
      "Collecting audioread>=2.1.9 (from librosa)\r\n",
      "  Downloading audioread-3.0.1-py3-none-any.whl.metadata (8.4 kB)\r\n",
      "Collecting numba>=0.51.0 (from librosa)\r\n",
      "  Downloading numba-0.61.2-cp310-cp310-manylinux2014_x86_64.manylinux_2_17_x86_64.whl.metadata (2.8 kB)\r\n",
      "Requirement already satisfied: numpy>=1.22.3 in /home/acacia/.conda/envs/beat_this/lib/python3.10/site-packages (from librosa) (1.26.4)\r\n",
      "Requirement already satisfied: scipy>=1.6.0 in /home/acacia/.conda/envs/beat_this/lib/python3.10/site-packages (from librosa) (1.15.2)\r\n",
      "Collecting scikit-learn>=1.1.0 (from librosa)\r\n",
      "  Downloading scikit_learn-1.6.1-cp310-cp310-manylinux_2_17_x86_64.manylinux2014_x86_64.whl.metadata (18 kB)\r\n",
      "Collecting joblib>=1.0 (from librosa)\r\n",
      "  Downloading joblib-1.4.2-py3-none-any.whl.metadata (5.4 kB)\r\n",
      "Requirement already satisfied: decorator>=4.3.0 in /home/acacia/.conda/envs/beat_this/lib/python3.10/site-packages (from librosa) (5.1.1)\r\n",
      "Requirement already satisfied: soundfile>=0.12.1 in /home/acacia/.conda/envs/beat_this/lib/python3.10/site-packages (from librosa) (0.13.1)\r\n",
      "Collecting pooch>=1.1 (from librosa)\r\n",
      "  Downloading pooch-1.8.2-py3-none-any.whl.metadata (10 kB)\r\n",
      "Requirement already satisfied: soxr>=0.3.2 in /home/acacia/.conda/envs/beat_this/lib/python3.10/site-packages (from librosa) (0.3.7)\r\n",
      "Requirement already satisfied: typing_extensions>=4.1.1 in /home/acacia/.conda/envs/beat_this/lib/python3.10/site-packages (from librosa) (4.12.2)\r\n",
      "Collecting lazy_loader>=0.1 (from librosa)\r\n",
      "  Downloading lazy_loader-0.4-py3-none-any.whl.metadata (7.6 kB)\r\n",
      "Collecting msgpack>=1.0 (from librosa)\r\n",
      "  Downloading msgpack-1.1.0-cp310-cp310-manylinux_2_17_x86_64.manylinux2014_x86_64.whl.metadata (8.4 kB)\r\n",
      "Requirement already satisfied: packaging in /home/acacia/.conda/envs/beat_this/lib/python3.10/site-packages (from lazy_loader>=0.1->librosa) (24.2)\r\n",
      "Collecting llvmlite<0.45,>=0.44.0dev0 (from numba>=0.51.0->librosa)\r\n",
      "  Downloading llvmlite-0.44.0-cp310-cp310-manylinux_2_17_x86_64.manylinux2014_x86_64.whl.metadata (4.8 kB)\r\n",
      "Requirement already satisfied: platformdirs>=2.5.0 in /home/acacia/.conda/envs/beat_this/lib/python3.10/site-packages (from pooch>=1.1->librosa) (4.3.7)\r\n",
      "Requirement already satisfied: requests>=2.19.0 in /home/acacia/.conda/envs/beat_this/lib/python3.10/site-packages (from pooch>=1.1->librosa) (2.32.3)\r\n",
      "Requirement already satisfied: charset-normalizer<4,>=2 in /home/acacia/.conda/envs/beat_this/lib/python3.10/site-packages (from requests>=2.19.0->pooch>=1.1->librosa) (3.3.2)\r\n",
      "Requirement already satisfied: idna<4,>=2.5 in /home/acacia/.conda/envs/beat_this/lib/python3.10/site-packages (from requests>=2.19.0->pooch>=1.1->librosa) (3.7)\r\n",
      "Requirement already satisfied: urllib3<3,>=1.21.1 in /home/acacia/.conda/envs/beat_this/lib/python3.10/site-packages (from requests>=2.19.0->pooch>=1.1->librosa) (2.3.0)\r\n",
      "Requirement already satisfied: certifi>=2017.4.17 in /home/acacia/.conda/envs/beat_this/lib/python3.10/site-packages (from requests>=2.19.0->pooch>=1.1->librosa) (2025.4.26)\r\n",
      "Collecting threadpoolctl>=3.1.0 (from scikit-learn>=1.1.0->librosa)\r\n",
      "  Downloading threadpoolctl-3.6.0-py3-none-any.whl.metadata (13 kB)\r\n",
      "Requirement already satisfied: cffi>=1.0 in /home/acacia/.conda/envs/beat_this/lib/python3.10/site-packages (from soundfile>=0.12.1->librosa) (1.17.1)\r\n",
      "Requirement already satisfied: pycparser in /home/acacia/.conda/envs/beat_this/lib/python3.10/site-packages (from cffi>=1.0->soundfile>=0.12.1->librosa) (2.21)\r\n",
      "Downloading librosa-0.11.0-py3-none-any.whl (260 kB)\r\n",
      "Downloading audioread-3.0.1-py3-none-any.whl (23 kB)\r\n",
      "Downloading joblib-1.4.2-py3-none-any.whl (301 kB)\r\n",
      "Downloading lazy_loader-0.4-py3-none-any.whl (12 kB)\r\n",
      "Downloading msgpack-1.1.0-cp310-cp310-manylinux_2_17_x86_64.manylinux2014_x86_64.whl (378 kB)\r\n",
      "Downloading numba-0.61.2-cp310-cp310-manylinux2014_x86_64.manylinux_2_17_x86_64.whl (3.8 MB)\r\n",
      "\u001B[2K   \u001B[90m━━━━━━━━━━━━━━━━━━━━━━━━━━━━━━━━━━━━━━━━\u001B[0m \u001B[32m3.8/3.8 MB\u001B[0m \u001B[31m10.4 MB/s\u001B[0m eta \u001B[36m0:00:00\u001B[0m \u001B[36m0:00:01\u001B[0m\r\n",
      "\u001B[?25hDownloading llvmlite-0.44.0-cp310-cp310-manylinux_2_17_x86_64.manylinux2014_x86_64.whl (42.4 MB)\r\n",
      "\u001B[2K   \u001B[90m━━━━━━━━━━━━━━━━━━━━━━━━━━━━━━━━━━━━━━━━\u001B[0m \u001B[32m42.4/42.4 MB\u001B[0m \u001B[31m10.9 MB/s\u001B[0m eta \u001B[36m0:00:00\u001B[0m00:01\u001B[0m00:01\u001B[0m\r\n",
      "\u001B[?25hDownloading pooch-1.8.2-py3-none-any.whl (64 kB)\r\n",
      "Downloading scikit_learn-1.6.1-cp310-cp310-manylinux_2_17_x86_64.manylinux2014_x86_64.whl (13.5 MB)\r\n",
      "\u001B[2K   \u001B[90m━━━━━━━━━━━━━━━━━━━━━━━━━━━━━━━━━━━━━━━━\u001B[0m \u001B[32m13.5/13.5 MB\u001B[0m \u001B[31m11.2 MB/s\u001B[0m eta \u001B[36m0:00:00\u001B[0m00:01\u001B[0m00:01\u001B[0m\r\n",
      "\u001B[?25hDownloading threadpoolctl-3.6.0-py3-none-any.whl (18 kB)\r\n",
      "Installing collected packages: threadpoolctl, msgpack, llvmlite, lazy_loader, joblib, audioread, scikit-learn, pooch, numba, librosa\r\n",
      "\u001B[2K   \u001B[90m━━━━━━━━━━━━━━━━━━━━━━━━━━━━━━━━━━━━━━━━\u001B[0m \u001B[32m10/10\u001B[0m [librosa]8/10\u001B[0m [numba]-learn]\r\n",
      "\u001B[1A\u001B[2KSuccessfully installed audioread-3.0.1 joblib-1.4.2 lazy_loader-0.4 librosa-0.11.0 llvmlite-0.44.0 msgpack-1.1.0 numba-0.61.2 pooch-1.8.2 scikit-learn-1.6.1 threadpoolctl-3.6.0\r\n",
      "Note: you may need to restart the kernel to use updated packages.\n"
     ]
    }
   ],
   "execution_count": 3
  },
  {
   "metadata": {},
   "cell_type": "code",
   "outputs": [],
   "execution_count": null,
   "source": "",
   "id": "96cbc0b90126cba1"
  }
 ],
 "metadata": {
  "kernelspec": {
   "display_name": "Python 3",
   "language": "python",
   "name": "python3"
  },
  "language_info": {
   "codemirror_mode": {
    "name": "ipython",
    "version": 2
   },
   "file_extension": ".py",
   "mimetype": "text/x-python",
   "name": "python",
   "nbconvert_exporter": "python",
   "pygments_lexer": "ipython2",
   "version": "2.7.6"
  }
 },
 "nbformat": 4,
 "nbformat_minor": 5
}
