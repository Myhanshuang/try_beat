{
 "cells": [
  {
   "cell_type": "code",
   "execution_count": null,
   "id": "initial_id",
   "metadata": {
    "collapsed": true
   },
   "outputs": [],
   "source": [
    ""
   ]
  },
  {
   "metadata": {
    "ExecuteTime": {
     "end_time": "2025-05-02T14:51:39.724356Z",
     "start_time": "2025-05-02T14:51:39.720967Z"
    }
   },
   "cell_type": "code",
   "source": [
    "import os\n",
    "import csv\n",
    "\n",
    "def write_dirs_to_csv(directory, output_csv):\n",
    "    # 打开 CSV 文件以写入\n",
    "    with open(output_csv, mode='w', newline='', encoding='utf-8') as file:\n",
    "        writer = csv.writer(file)\n",
    "        # 遍历目录中的所有子目录\n",
    "        for root, dirs, _ in os.walk(directory):\n",
    "            for dir_name in dirs:\n",
    "                abs_path = os.path.abspath(os.path.join(root, dir_name))\n",
    "                # 写入子目录名称和绝对路径\n",
    "                writer.writerow([dir_name, abs_path])\n",
    "\n",
    "# 使用示例\n",
    "directory_to_scan = '/home/acacia/PycharmProjects/beat_this-1.0/data/audio/ballroom'  # 替换为目标目录路径\n",
    "output_csv_file = '/home/acacia/PycharmProjects/beat_this-1.0/data/audio_paths.csv'  # 输出的 CSV 文件名\n",
    "write_dirs_to_csv(directory_to_scan, output_csv_file)"
   ],
   "id": "30e3af2796ee9d32",
   "outputs": [],
   "execution_count": 16
  },
  {
   "metadata": {},
   "cell_type": "code",
   "outputs": [],
   "execution_count": null,
   "source": "",
   "id": "de2f150a285fc6f"
  }
 ],
 "metadata": {
  "kernelspec": {
   "display_name": "Python 3",
   "language": "python",
   "name": "python3"
  },
  "language_info": {
   "codemirror_mode": {
    "name": "ipython",
    "version": 2
   },
   "file_extension": ".py",
   "mimetype": "text/x-python",
   "name": "python",
   "nbconvert_exporter": "python",
   "pygments_lexer": "ipython2",
   "version": "2.7.6"
  }
 },
 "nbformat": 4,
 "nbformat_minor": 5
}
